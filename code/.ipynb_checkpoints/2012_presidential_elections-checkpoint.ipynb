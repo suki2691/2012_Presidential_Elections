{
 "cells": [
  {
   "cell_type": "code",
   "execution_count": null,
   "metadata": {
    "collapsed": true
   },
   "outputs": [],
   "source": [
    "import numpy as np\n",
    "import pandas as pd\n",
    "import matplotlib.pyplot as plt\n",
    "import seaborn as sns\n",
    "%matplotlib inline"
   ]
  },
  {
   "cell_type": "code",
   "execution_count": null,
   "metadata": {
    "collapsed": true
   },
   "outputs": [],
   "source": [
    "#Opening all the datasets\n",
    "table = pd.read_csv('data/fips_winning_party_unemployment.csv')\n",
    "county_fips = pd.read_csv('data/county_FIPS.csv')\n",
    "latlong = pd.read_csv('data/county_latlong.csv')\n",
    "unions = pd.read_csv('data/unions_counts.csv')\n",
    "diabetes = pd.read_csv('data/Diabetes_2012_main.csv')\n",
    "physical_inactivity = pd.read_csv('data/physical_inactivity_2012_main.csv')\n",
    "drug_deaths = pd.read_csv('data/drug_deaths_2012.csv')\n",
    "gun_stores = pd.read_csv('data/gun_store_counts_main.csv')\n",
    "health_insurance = pd.read_csv('data/health_insurance_small_area.csv')\n",
    "liquor_stores = pd.read_csv('data/liquor_stores_counts.csv')\n",
    "migration = pd.read_csv('data/migration_data.csv')\n",
    "obesity = pd.read_csv('data/Obesity_2012_main.csv')\n",
    "poverty_income = pd.read_csv('data/poverty_income.csv')\n",
    "starbucks = pd.read_csv('data/starbucks_counts.csv')\n",
    "race_data = pd.read_csv('data/race_data.csv')\n",
    "heart_deaths = pd.read_csv('data/heart_disease_deaths.csv')"
   ]
  },
  {
   "cell_type": "markdown",
   "metadata": {},
   "source": [
    "# Adding latitude longitude"
   ]
  },
  {
   "cell_type": "code",
   "execution_count": null,
   "metadata": {
    "collapsed": true
   },
   "outputs": [],
   "source": [
    "table_adding_latlong = pd.merge(table,latlong,on='fips_code',how='left')"
   ]
  },
  {
   "cell_type": "code",
   "execution_count": null,
   "metadata": {
    "collapsed": true
   },
   "outputs": [],
   "source": [
    "table_adding_latlong.head()"
   ]
  },
  {
   "cell_type": "code",
   "execution_count": null,
   "metadata": {
    "collapsed": true
   },
   "outputs": [],
   "source": [
    "#Checking for null- sanity check\n",
    "table_adding_latlong[pd.isnull(table_adding_latlong).any(axis=1)]"
   ]
  },
  {
   "cell_type": "markdown",
   "metadata": {},
   "source": [
    "# Adding unions"
   ]
  },
  {
   "cell_type": "code",
   "execution_count": null,
   "metadata": {
    "collapsed": true
   },
   "outputs": [],
   "source": [
    "table_adding_unions = pd.merge(table_adding_latlong,unions,on='fips_code',how='left')"
   ]
  },
  {
   "cell_type": "code",
   "execution_count": null,
   "metadata": {
    "collapsed": true
   },
   "outputs": [],
   "source": [
    "#Sanity check for nulls\n",
    "table_adding_unions[pd.isnull(table_adding_unions).any(axis=1)]"
   ]
  },
  {
   "cell_type": "code",
   "execution_count": null,
   "metadata": {
    "collapsed": true
   },
   "outputs": [],
   "source": [
    "#Replacing nulls with 0\n",
    "table_adding_unions.fillna(0,inplace=True)"
   ]
  },
  {
   "cell_type": "code",
   "execution_count": null,
   "metadata": {
    "collapsed": true
   },
   "outputs": [],
   "source": [
    "table_adding_unions.head()"
   ]
  },
  {
   "cell_type": "markdown",
   "metadata": {},
   "source": [
    "# Adding diabetes"
   ]
  },
  {
   "cell_type": "code",
   "execution_count": null,
   "metadata": {
    "collapsed": true
   },
   "outputs": [],
   "source": [
    "diabetes.head()"
   ]
  },
  {
   "cell_type": "code",
   "execution_count": null,
   "metadata": {
    "collapsed": true
   },
   "outputs": [],
   "source": [
    "table_adding_diabetes = pd.merge(table_adding_unions,diabetes,on='fips_code',how='left')"
   ]
  },
  {
   "cell_type": "code",
   "execution_count": null,
   "metadata": {
    "collapsed": true
   },
   "outputs": [],
   "source": [
    "table_adding_diabetes.head()"
   ]
  },
  {
   "cell_type": "code",
   "execution_count": null,
   "metadata": {
    "collapsed": true
   },
   "outputs": [],
   "source": [
    "#Sanity check for nulls\n",
    "table_adding_diabetes[pd.isnull(table_adding_diabetes).any(axis=1)]"
   ]
  },
  {
   "cell_type": "markdown",
   "metadata": {},
   "source": [
    "# Adding physical inactivity"
   ]
  },
  {
   "cell_type": "code",
   "execution_count": null,
   "metadata": {
    "collapsed": true
   },
   "outputs": [],
   "source": [
    "table_adding_inactivity = pd.merge(table_adding_diabetes,physical_inactivity,on='fips_code')"
   ]
  },
  {
   "cell_type": "code",
   "execution_count": null,
   "metadata": {
    "collapsed": true
   },
   "outputs": [],
   "source": [
    "#Sanity check for nulls\n",
    "table_adding_inactivity[pd.isnull(table_adding_inactivity).any(axis=1)]"
   ]
  },
  {
   "cell_type": "markdown",
   "metadata": {},
   "source": [
    "# Adding drug deaths"
   ]
  },
  {
   "cell_type": "code",
   "execution_count": null,
   "metadata": {
    "collapsed": true
   },
   "outputs": [],
   "source": [
    "table_adding_drug_deaths = pd.merge(table_adding_inactivity,drug_deaths,on='fips_code',how='left')"
   ]
  },
  {
   "cell_type": "code",
   "execution_count": null,
   "metadata": {
    "collapsed": true
   },
   "outputs": [],
   "source": [
    "#Sanity check for nulls\n",
    "table_adding_drug_deaths[pd.isnull(table_adding_drug_deaths).any(axis=1)]"
   ]
  },
  {
   "cell_type": "code",
   "execution_count": null,
   "metadata": {
    "collapsed": true
   },
   "outputs": [],
   "source": [
    "table_adding_drug_deaths.head()"
   ]
  },
  {
   "cell_type": "markdown",
   "metadata": {},
   "source": [
    "# Adding gun stores"
   ]
  },
  {
   "cell_type": "code",
   "execution_count": null,
   "metadata": {
    "collapsed": true
   },
   "outputs": [],
   "source": [
    "gun_stores = pd.read_csv('mcnulty/gun_store_counts_main.csv')"
   ]
  },
  {
   "cell_type": "code",
   "execution_count": null,
   "metadata": {
    "collapsed": true
   },
   "outputs": [],
   "source": [
    "table_adding_gun_stores = pd.merge(table_adding_drug_deaths,gun_stores,on='fips_code',how='left')"
   ]
  },
  {
   "cell_type": "code",
   "execution_count": null,
   "metadata": {
    "collapsed": true
   },
   "outputs": [],
   "source": [
    "table_adding_gun_stores.head()"
   ]
  },
  {
   "cell_type": "code",
   "execution_count": null,
   "metadata": {
    "collapsed": true
   },
   "outputs": [],
   "source": [
    "table_adding_gun_stores[pd.isnull(table_adding_gun_stores).any(axis=1)]"
   ]
  },
  {
   "cell_type": "code",
   "execution_count": null,
   "metadata": {
    "collapsed": true
   },
   "outputs": [],
   "source": [
    "#Replacing nulls with 0 as there are counties without gun stores\n",
    "table_adding_gun_stores.fillna(0,inplace=True)"
   ]
  },
  {
   "cell_type": "code",
   "execution_count": null,
   "metadata": {
    "collapsed": true
   },
   "outputs": [],
   "source": [
    "table_adding_gun_stores[pd.isnull(table_adding_gun_stores).any(axis=1)]"
   ]
  },
  {
   "cell_type": "code",
   "execution_count": null,
   "metadata": {
    "collapsed": true
   },
   "outputs": [],
   "source": [
    "#Sanity check\n",
    "table_adding_gun_stores[table_adding_gun_stores.statefp == 6]"
   ]
  },
  {
   "cell_type": "markdown",
   "metadata": {},
   "source": [
    "# Adding liquor stores"
   ]
  },
  {
   "cell_type": "code",
   "execution_count": null,
   "metadata": {
    "collapsed": true
   },
   "outputs": [],
   "source": [
    "table_adding_liquor_store_counts = pd.merge(table_adding_gun_stores,liquor_stores,on='fips_code',how='left')"
   ]
  },
  {
   "cell_type": "code",
   "execution_count": null,
   "metadata": {
    "collapsed": true
   },
   "outputs": [],
   "source": [
    "table_adding_liquor_store_counts[pd.isnull(table_adding_liquor_store_counts).any(axis=1)]"
   ]
  },
  {
   "cell_type": "code",
   "execution_count": null,
   "metadata": {
    "collapsed": true
   },
   "outputs": [],
   "source": [
    "#Replacing nulls with median liquor store counts\n",
    "table_adding_liquor_store_counts.fillna(table_adding_liquor_store_counts.liquor_store_count.median(),inplace=True)"
   ]
  },
  {
   "cell_type": "code",
   "execution_count": null,
   "metadata": {
    "collapsed": true
   },
   "outputs": [],
   "source": [
    "table_adding_liquor_store_counts[pd.isnull(table_adding_liquor_store_counts).any(axis=1)]"
   ]
  },
  {
   "cell_type": "markdown",
   "metadata": {},
   "source": [
    "# Migration"
   ]
  },
  {
   "cell_type": "code",
   "execution_count": null,
   "metadata": {
    "collapsed": true
   },
   "outputs": [],
   "source": [
    "table_adding_migration = pd.merge(table_adding_liquor_store_counts,migration,on='fips_code',how='left')"
   ]
  },
  {
   "cell_type": "code",
   "execution_count": null,
   "metadata": {
    "collapsed": true
   },
   "outputs": [],
   "source": [
    "table_adding_migration[pd.isnull(table_adding_migration).any(axis=1)]"
   ]
  },
  {
   "cell_type": "code",
   "execution_count": null,
   "metadata": {
    "collapsed": true
   },
   "outputs": [],
   "source": [
    "table_adding_migration.shape"
   ]
  },
  {
   "cell_type": "markdown",
   "metadata": {},
   "source": [
    "# Obesity"
   ]
  },
  {
   "cell_type": "code",
   "execution_count": null,
   "metadata": {
    "collapsed": true
   },
   "outputs": [],
   "source": [
    "obesity.columns"
   ]
  },
  {
   "cell_type": "code",
   "execution_count": null,
   "metadata": {
    "collapsed": true
   },
   "outputs": [],
   "source": [
    "table_adding_obesity = pd.merge(table_adding_migration,obesity,on='fips_code',how='left')"
   ]
  },
  {
   "cell_type": "code",
   "execution_count": null,
   "metadata": {
    "collapsed": true
   },
   "outputs": [],
   "source": [
    "table_adding_obesity.shape"
   ]
  },
  {
   "cell_type": "code",
   "execution_count": null,
   "metadata": {
    "collapsed": true
   },
   "outputs": [],
   "source": [
    "table_adding_obesity[pd.isnull(table_adding_obesity).any(axis=1)]"
   ]
  },
  {
   "cell_type": "markdown",
   "metadata": {},
   "source": [
    "# Poverty income"
   ]
  },
  {
   "cell_type": "code",
   "execution_count": null,
   "metadata": {
    "collapsed": true
   },
   "outputs": [],
   "source": [
    "table_adding_poverty_income = pd.merge(table_adding_obesity,poverty_income,on='fips_code',how='left')"
   ]
  },
  {
   "cell_type": "code",
   "execution_count": null,
   "metadata": {
    "collapsed": true
   },
   "outputs": [],
   "source": [
    "table_adding_poverty_income.shape"
   ]
  },
  {
   "cell_type": "code",
   "execution_count": null,
   "metadata": {
    "collapsed": true
   },
   "outputs": [],
   "source": [
    "table_adding_poverty_income[pd.isnull(table_adding_poverty_income).any(axis=1)]"
   ]
  },
  {
   "cell_type": "markdown",
   "metadata": {},
   "source": [
    "# Starbucks"
   ]
  },
  {
   "cell_type": "code",
   "execution_count": null,
   "metadata": {
    "collapsed": true
   },
   "outputs": [],
   "source": [
    "starbucks = pd.read_csv('mcnulty/starbucks_counts.csv')"
   ]
  },
  {
   "cell_type": "code",
   "execution_count": null,
   "metadata": {
    "collapsed": true
   },
   "outputs": [],
   "source": [
    "table_adding_starbucks = pd.merge(table_adding_poverty_income,starbucks,on='fips_code',how='left')"
   ]
  },
  {
   "cell_type": "code",
   "execution_count": null,
   "metadata": {
    "collapsed": true
   },
   "outputs": [],
   "source": [
    "table_adding_starbucks.shape"
   ]
  },
  {
   "cell_type": "code",
   "execution_count": null,
   "metadata": {
    "collapsed": true
   },
   "outputs": [],
   "source": [
    "table_adding_starbucks[pd.isnull(table_adding_starbucks).any(axis=1)]"
   ]
  },
  {
   "cell_type": "markdown",
   "metadata": {},
   "source": [
    "# Race data"
   ]
  },
  {
   "cell_type": "code",
   "execution_count": null,
   "metadata": {
    "collapsed": true
   },
   "outputs": [],
   "source": [
    "race_data.shape"
   ]
  },
  {
   "cell_type": "code",
   "execution_count": null,
   "metadata": {
    "collapsed": true
   },
   "outputs": [],
   "source": [
    "table_adding_race_data = pd.merge(table_adding_starbucks,race_data,on='fips_code',how='left')"
   ]
  },
  {
   "cell_type": "code",
   "execution_count": null,
   "metadata": {
    "collapsed": true
   },
   "outputs": [],
   "source": [
    "table_adding_race_data[pd.isnull(table_adding_race_data).any(axis=1)]"
   ]
  },
  {
   "cell_type": "code",
   "execution_count": null,
   "metadata": {
    "collapsed": true
   },
   "outputs": [],
   "source": [
    "table_adding_race_data.shape"
   ]
  },
  {
   "cell_type": "markdown",
   "metadata": {},
   "source": [
    "# Heart deaths"
   ]
  },
  {
   "cell_type": "code",
   "execution_count": null,
   "metadata": {
    "collapsed": true
   },
   "outputs": [],
   "source": [
    "dataset = pd.merge(table_adding_race_data,heart_deaths,on='fips_code',how='left')"
   ]
  },
  {
   "cell_type": "code",
   "execution_count": null,
   "metadata": {
    "collapsed": true
   },
   "outputs": [],
   "source": [
    "dataset.shape"
   ]
  },
  {
   "cell_type": "code",
   "execution_count": null,
   "metadata": {
    "collapsed": true
   },
   "outputs": [],
   "source": [
    "cols = pd.Series(dataset.columns)"
   ]
  },
  {
   "cell_type": "code",
   "execution_count": null,
   "metadata": {
    "collapsed": true
   },
   "outputs": [],
   "source": [
    "dataset.drop(['state_x','State_x','state_y','county_name'],axis=1,inplace=True)"
   ]
  },
  {
   "cell_type": "code",
   "execution_count": null,
   "metadata": {
    "collapsed": true
   },
   "outputs": [],
   "source": [
    "cols = pd.Series(dataset.columns)"
   ]
  },
  {
   "cell_type": "code",
   "execution_count": null,
   "metadata": {
    "collapsed": true
   },
   "outputs": [],
   "source": [
    "dataset.drop(['county_name_x','county_name_y','county_x','county_y','State_y'],axis=1,inplace=True)"
   ]
  },
  {
   "cell_type": "code",
   "execution_count": null,
   "metadata": {
    "collapsed": true
   },
   "outputs": [],
   "source": [
    "cols = pd.Series(dataset.columns)"
   ]
  },
  {
   "cell_type": "code",
   "execution_count": null,
   "metadata": {
    "collapsed": true
   },
   "outputs": [],
   "source": [
    "dataset.drop(['naics_x','naics_y'],axis=1,inplace=True)"
   ]
  },
  {
   "cell_type": "code",
   "execution_count": null,
   "metadata": {
    "collapsed": true
   },
   "outputs": [],
   "source": [
    "cols = pd.Series(dataset.columns)"
   ]
  },
  {
   "cell_type": "code",
   "execution_count": null,
   "metadata": {
    "collapsed": true
   },
   "outputs": [],
   "source": [
    "cols"
   ]
  },
  {
   "cell_type": "code",
   "execution_count": null,
   "metadata": {
    "collapsed": true
   },
   "outputs": [],
   "source": [
    "dataset.drop(['County','state_fips','county_fips','name'],axis=1,inplace=True)"
   ]
  },
  {
   "cell_type": "code",
   "execution_count": null,
   "metadata": {
    "collapsed": true
   },
   "outputs": [],
   "source": [
    "cols = pd.Series(dataset.columns)"
   ]
  },
  {
   "cell_type": "code",
   "execution_count": null,
   "metadata": {
    "collapsed": true
   },
   "outputs": [],
   "source": [
    "cols"
   ]
  },
  {
   "cell_type": "code",
   "execution_count": null,
   "metadata": {
    "collapsed": true
   },
   "outputs": [],
   "source": [
    "dataset[pd.isnull(dataset).any(axis=1)]"
   ]
  },
  {
   "cell_type": "code",
   "execution_count": null,
   "metadata": {
    "collapsed": true
   },
   "outputs": [],
   "source": [
    "dataset.heart_disease_deathrate_per_100000.mean()"
   ]
  },
  {
   "cell_type": "code",
   "execution_count": null,
   "metadata": {
    "collapsed": true
   },
   "outputs": [],
   "source": [
    "dataset.heart_disease_deathrate_per_100000.median()"
   ]
  },
  {
   "cell_type": "code",
   "execution_count": null,
   "metadata": {
    "collapsed": true
   },
   "outputs": [],
   "source": [
    "dataset.fillna(dataset.heart_disease_deathrate_per_100000.median(),inplace=True)"
   ]
  },
  {
   "cell_type": "code",
   "execution_count": null,
   "metadata": {
    "collapsed": true
   },
   "outputs": [],
   "source": [
    "dataset[pd.isnull(dataset).any(axis=1)]"
   ]
  },
  {
   "cell_type": "code",
   "execution_count": null,
   "metadata": {
    "collapsed": true
   },
   "outputs": [],
   "source": [
    "dataset.median_household_income"
   ]
  },
  {
   "cell_type": "code",
   "execution_count": null,
   "metadata": {
    "collapsed": true
   },
   "outputs": [],
   "source": [
    "#Removing the commas after the thousandth place and converting the string to an integer\n",
    "dataset.poverty_estimate_all_ages = dataset.poverty_estimate_all_ages.apply(lambda x: int(''.join(x.split(','))))\n",
    "dataset.poverty_percent_all_ages = dataset.poverty_percent_all_ages.apply(lambda x: float(x))\n",
    "dataset.poverty_estimate_under_age_18 = dataset.poverty_estimate_under_age_18.apply(lambda x: int(''.join(x.split(','))))\n",
    "dataset.poverty_percent_under_age_18 = dataset.poverty_percent_under_age_18.apply(lambda x: float(x))\n",
    "dataset['poverty_estimate_ages_5-17_in_families'] =  dataset['poverty_estimate_ages_5-17_in_families'].apply(lambda x: int(''.join(x.split(','))))\n",
    "dataset['poverty_percent_ages_5-17_in_families'] = dataset['poverty_percent_ages_5-17_in_families'].apply(lambda x: float(x))\n",
    "dataset.median_household_income = dataset.median_household_income.apply(lambda x: int(''.join(x.split(','))))"
   ]
  },
  {
   "cell_type": "code",
   "execution_count": null,
   "metadata": {
    "collapsed": true
   },
   "outputs": [],
   "source": [
    "dataset.info()"
   ]
  },
  {
   "cell_type": "code",
   "execution_count": null,
   "metadata": {
    "collapsed": true
   },
   "outputs": [],
   "source": [
    "dataset = dataset.rename(columns = {'logitude':'longitude','number':'obesity_number','percent':'obesity_percent'})"
   ]
  },
  {
   "cell_type": "markdown",
   "metadata": {},
   "source": [
    "# Model fitting"
   ]
  },
  {
   "cell_type": "code",
   "execution_count": null,
   "metadata": {
    "collapsed": true
   },
   "outputs": [],
   "source": [
    "from sklearn.model_selection import train_test_split, learning_curve, cross_val_score, StratifiedKFold, GridSearchCV\n",
    "from sklearn.metrics import confusion_matrix, classification_report, accuracy_score, log_loss,roc_auc_score, roc_curve\n",
    "from sklearn.neighbors import KNeighborsClassifier\n",
    "from sklearn.linear_model import LogisticRegression\n",
    "from sklearn.naive_bayes import GaussianNB\n",
    "from sklearn.svm import SVC\n",
    "from sklearn.tree import DecisionTreeClassifier\n",
    "from sklearn.ensemble import RandomForestClassifier, GradientBoostingClassifier\n",
    "from sklearn.base import clone"
   ]
  },
  {
   "cell_type": "code",
   "execution_count": null,
   "metadata": {
    "collapsed": true
   },
   "outputs": [],
   "source": [
    "dataset['is_democrat'] = dataset.winning_party.apply(lambda x: 1 if x=='Democrat' else 0)"
   ]
  },
  {
   "cell_type": "code",
   "execution_count": null,
   "metadata": {
    "collapsed": true
   },
   "outputs": [],
   "source": [
    "X = dataset.drop(['is_democrat','winning_party','postal_code','Area_name','ansi_code','fips_code','countyfp','statefp','longitude','latitude'],axis=1)\n",
    "y = dataset['is_democrat']"
   ]
  },
  {
   "cell_type": "code",
   "execution_count": null,
   "metadata": {
    "collapsed": true
   },
   "outputs": [],
   "source": [
    "X_train,X_test,y_train,y_test = train_test_split(X,y,test_size=0.25,random_state=42)"
   ]
  },
  {
   "cell_type": "code",
   "execution_count": null,
   "metadata": {
    "collapsed": true
   },
   "outputs": [],
   "source": [
    "lr = LogisticRegression()\n",
    "lr.fit(X_train,y_train)\n",
    "y_pred_prob = lr.predict_proba(X_test)\n",
    "y_pred = lr.predict(X_test)"
   ]
  },
  {
   "cell_type": "code",
   "execution_count": null,
   "metadata": {
    "collapsed": true
   },
   "outputs": [],
   "source": [
    "confusion_matrix(y_test, y_pred)"
   ]
  },
  {
   "cell_type": "code",
   "execution_count": null,
   "metadata": {
    "collapsed": true
   },
   "outputs": [],
   "source": [
    "print(classification_report(y_test,y_pred))"
   ]
  },
  {
   "cell_type": "code",
   "execution_count": null,
   "metadata": {
    "collapsed": true
   },
   "outputs": [],
   "source": [
    "log_loss(y_test,y_pred_prob)"
   ]
  },
  {
   "cell_type": "code",
   "execution_count": null,
   "metadata": {
    "collapsed": true
   },
   "outputs": [],
   "source": [
    "accuracy_score(y_test,y_pred)"
   ]
  },
  {
   "cell_type": "code",
   "execution_count": null,
   "metadata": {
    "collapsed": true
   },
   "outputs": [],
   "source": [
    "def cross_val_predict_proba(model, X, y, folds=5, verbose=True):\n",
    "    '''Function to perform cross validation of the classifier to prevent overfitting by training \n",
    "    the  model on a single train test split'''\n",
    "    this_model = clone(model)\n",
    "    num_classes = len(np.unique(y))\n",
    "    y_pred_prob = np.zeros((len(y),num_classes))\n",
    "    y_pred = np.zeros(len(y))\n",
    "    skf = StratifiedKFold(n_splits=folds, shuffle=True).split(X, y)\n",
    "    for idx, (train_idx, test_idx) in enumerate(skf):\n",
    "        if verbose:\n",
    "            print(\"training fold {} of {}\".format(idx+1, folds))\n",
    "        X_train = np.array(X)[train_idx,:]\n",
    "        X_test = np.array(X)[test_idx,:]\n",
    "        y_train = np.array(y)[train_idx]\n",
    "        # We could also copy the model first and then fit it\n",
    "        \n",
    "        this_model.fit(X_train,y_train)\n",
    "        y_pred_prob[test_idx,:] = this_model.predict_proba(X_test)\n",
    "        y_pred[test_idx] = this_model.predict(X_test)\n",
    "    return y_pred_prob, y_pred"
   ]
  },
  {
   "cell_type": "code",
   "execution_count": null,
   "metadata": {
    "collapsed": true
   },
   "outputs": [],
   "source": [
    "y_pred_prob, y_pred = cross_val_predict_proba(GradientBoostingClassifier(), X, y, folds=5)"
   ]
  },
  {
   "cell_type": "code",
   "execution_count": null,
   "metadata": {
    "collapsed": true
   },
   "outputs": [],
   "source": [
    "print('Accuracy: ',accuracy_score(y,y_pred))\n",
    "print('AUC: ',roc_auc_score(y,y_pred_prob[:,1]))"
   ]
  },
  {
   "cell_type": "code",
   "execution_count": null,
   "metadata": {
    "collapsed": true
   },
   "outputs": [],
   "source": [
    "acc = []\n",
    "for i in range(1,21):\n",
    "    knn = KNeighborsClassifier(n_neighbors=i)\n",
    "    knn.fit(X_train,y_train)\n",
    "    y_pred = knn.predict(X_test)\n",
    "    acc.append(accuracy_score(y_test,y_pred))\n",
    "\n",
    "np.argmax(acc) + 1"
   ]
  },
  {
   "cell_type": "code",
   "execution_count": null,
   "metadata": {
    "collapsed": true
   },
   "outputs": [],
   "source": [
    "def pr_curve(truthvec, scorevec, digit_prec=2):\n",
    "    '''Function to plot the precision recall curve of the classifier'''\n",
    "    threshvec = np.unique(np.round(scorevec,digit_prec))\n",
    "    numthresh = len(threshvec)\n",
    "    tpvec = np.zeros(numthresh)\n",
    "    fpvec = np.zeros(numthresh)\n",
    "    fnvec = np.zeros(numthresh)\n",
    "\n",
    "    for i in range(numthresh):\n",
    "        thresh = threshvec[i]\n",
    "        tpvec[i] = sum(truthvec[scorevec>=thresh])\n",
    "        fpvec[i] = sum(1-truthvec[scorevec>=thresh])\n",
    "        fnvec[i] = sum(truthvec[scorevec<thresh])\n",
    "    recallvec = tpvec/(tpvec + fnvec)\n",
    "    precisionvec = tpvec/(tpvec + fpvec)\n",
    "    plt.plot(precisionvec,recallvec)\n",
    "    plt.title('PR curve')\n",
    "    plt.xlabel('precision')\n",
    "    plt.ylabel('recall')\n",
    "#     plt.legend(loc='best')\n",
    "    plt.axis([0, 1, 0, 1])\n",
    "    return (recallvec, precisionvec, threshvec)"
   ]
  },
  {
   "cell_type": "code",
   "execution_count": null,
   "metadata": {
    "collapsed": true
   },
   "outputs": [],
   "source": [
    "models = {}\n",
    "parameters = {}\n",
    "\n",
    "# A general check to see which classifier has the best performance\n",
    "models['logistic_regression'] = LogisticRegression()\n",
    "models['KNN'] = KNeighborsClassifier(n_neighbors=19)\n",
    "models['naive_bayes'] = GaussianNB()\n",
    "# models['SVM'] = SVC()\n",
    "models['decision_tree'] = DecisionTreeClassifier(max_depth=6)\n",
    "models['randomForest'] = RandomForestClassifier()\n",
    "models['gradboostedTrees'] = GradientBoostingClassifier()\n",
    "\n",
    "for name,model in models.items():\n",
    "    model.fit(X_train,y_train)\n",
    "    y_pred = model.predict(X_test)\n",
    "    y_pred_prob = model.predict_proba(X_test)[:,1]\n",
    "    cross_val = cross_val_score(model,X,y)\n",
    "    log_loss_output = log_loss(y_test,y_pred_prob)\n",
    "    confusion_mat = confusion_matrix(y_test, y_pred)\n",
    "    col_total = sum(confusion_mat)\n",
    "    accuracy = (confusion_mat[0][0]+confusion_mat[1][1])/sum(col_total)\n",
    "    precision = confusion_mat[1][1]/(confusion_mat[0][0]+confusion_mat[1][1])\n",
    "    recall = confusion_mat[1][1]/col_total[1]\n",
    "    f1 = 2 * (precision * recall) / (precision + recall)\n",
    "    print('Model: ', name)\n",
    "    print('Cross val score: ', np.mean(cross_val))\n",
    "    print('Log loss: ',log_loss_output)\n",
    "    print('Accuracy: ', accuracy)\n",
    "    print('Precision: ', precision)\n",
    "    print('Recall: ', recall)\n",
    "    print('F1 Score: ', f1)\n",
    "    print(classification_report(y_test,y_pred))\n",
    "    print('AUC score is:', roc_auc_score(y_test,y_pred_prob))\n",
    "    pr_curve(y_test, y_pred_prob)\n",
    "    print()"
   ]
  },
  {
   "cell_type": "markdown",
   "metadata": {},
   "source": [
    "## Choosing gradient boosted trees"
   ]
  },
  {
   "cell_type": "markdown",
   "metadata": {
    "collapsed": true
   },
   "source": [
    "Of all the 6 classifiers tested, gradient boosted trees had the best baseline performance"
   ]
  },
  {
   "cell_type": "code",
   "execution_count": null,
   "metadata": {
    "collapsed": true
   },
   "outputs": [],
   "source": [
    "gbr = GradientBoostingClassifier(criterion='friedman_mse', init=None,\n",
    "              learning_rate=0.2, loss='deviance', max_depth=3,\n",
    "              max_features=None, max_leaf_nodes=None,\n",
    "              min_impurity_split=1e-07, min_samples_leaf=1,\n",
    "              min_samples_split=2, min_weight_fraction_leaf=0.0,\n",
    "              n_estimators=100, presort='auto', random_state=42,\n",
    "              subsample=1.0, verbose=0, warm_start=False)"
   ]
  },
  {
   "cell_type": "code",
   "execution_count": null,
   "metadata": {
    "collapsed": true
   },
   "outputs": [],
   "source": [
    "gbr.fit(X_train,y_train)\n",
    "y_pred = gbr.predict(X_test)\n",
    "y_pred_prob = gbr.predict_proba(X_test)\n",
    "cross_val = cross_val_score(gbr,X,y)\n",
    "log_loss_output = log_loss(y_test,y_pred_prob)\n",
    "confusion_mat = confusion_matrix(y_test, y_pred)\n",
    "print('Cross val score: ', np.mean(cross_val))\n",
    "print('Log loss: ',log_loss_output)\n",
    "print('Accuracy: ',accuracy_score(y_test,y_pred))\n",
    "print(confusion_mat)\n",
    "print(classification_report(y_test,y_pred))"
   ]
  },
  {
   "cell_type": "code",
   "execution_count": null,
   "metadata": {
    "collapsed": true
   },
   "outputs": [],
   "source": [
    "#Obtaining feature inportances\n",
    "sorted(zip(X.columns,gbr.feature_importances_), key = lambda x:x[1], reverse=True)"
   ]
  },
  {
   "cell_type": "markdown",
   "metadata": {},
   "source": [
    "# Feature Engineering\n",
    "Creating interction terms between existing features to better predict the outcome of the elections"
   ]
  },
  {
   "cell_type": "code",
   "execution_count": null,
   "metadata": {
    "collapsed": true
   },
   "outputs": [],
   "source": [
    "dataset.area_land_mt.describe()"
   ]
  },
  {
   "cell_type": "markdown",
   "metadata": {},
   "source": [
    "Computing population density"
   ]
  },
  {
   "cell_type": "code",
   "execution_count": null,
   "metadata": {
    "collapsed": true
   },
   "outputs": [],
   "source": [
    "dataset['population_density'] = dataset.apply(lambda row: row.total_population/row.area_land_mi,axis=1)"
   ]
  },
  {
   "cell_type": "code",
   "execution_count": null,
   "metadata": {
    "collapsed": true
   },
   "outputs": [],
   "source": [
    "dataset.population_density.describe()"
   ]
  },
  {
   "cell_type": "markdown",
   "metadata": {},
   "source": [
    "A feature that checks if a given county has a greater caucasian population than all other races combined"
   ]
  },
  {
   "cell_type": "code",
   "execution_count": null,
   "metadata": {
    "collapsed": true
   },
   "outputs": [],
   "source": [
    "dataset['white_population_greater'] = ((dataset.white_pop - dataset.african_american_pop) > 0).astype(int)"
   ]
  },
  {
   "cell_type": "code",
   "execution_count": null,
   "metadata": {
    "collapsed": true
   },
   "outputs": [],
   "source": [
    "dataset['white_population_greater_than_all'] = ((dataset.white_pop - (dataset.african_american_pop+\\\n",
    "                            dataset.american_indian_pop+dataset.asian_pop+dataset.other_pop+\\\n",
    "                            dataset.hawaiian_islander_pop)) > 0).astype(int)"
   ]
  },
  {
   "cell_type": "markdown",
   "metadata": {},
   "source": [
    "Identifying whether more people migrated into the county (doemstic and international migrants)\n"
   ]
  },
  {
   "cell_type": "code",
   "execution_count": null,
   "metadata": {
    "collapsed": true
   },
   "outputs": [],
   "source": [
    "dataset['positive_migration'] = (dataset.net_mig > 0).astype(int)"
   ]
  },
  {
   "cell_type": "code",
   "execution_count": null,
   "metadata": {
    "collapsed": true
   },
   "outputs": [],
   "source": [
    "dataset['positive_domestic_migration'] = (dataset.domestic_mig > 0).astype(int)\n",
    "dataset['positive_international_migration'] = (dataset.international_mig > 0).astype(int)"
   ]
  },
  {
   "cell_type": "markdown",
   "metadata": {},
   "source": [
    "Seeing how the counts of starbucks stores and gun stores drove the election results"
   ]
  },
  {
   "cell_type": "code",
   "execution_count": null,
   "metadata": {
    "collapsed": true
   },
   "outputs": [],
   "source": [
    "dataset['starbucks_gun_stores_ratio'] = dataset.apply(lambda row: (row.starbucks_store_count/row.gun_store_counts)\\\n",
    "                                    if row.gun_store_counts !=0 else row.starbucks_store_count ,axis=1)"
   ]
  },
  {
   "cell_type": "code",
   "execution_count": null,
   "metadata": {
    "collapsed": true
   },
   "outputs": [],
   "source": [
    "dataset['more_starbucks'] = ((dataset.starbucks_store_count - dataset.gun_store_counts) > 0).astype(int)"
   ]
  },
  {
   "cell_type": "code",
   "execution_count": null,
   "metadata": {
    "collapsed": true
   },
   "outputs": [],
   "source": [
    "dataset.starbucks_gun_stores_ratio.describe()"
   ]
  },
  {
   "cell_type": "code",
   "execution_count": null,
   "metadata": {
    "collapsed": true
   },
   "outputs": [],
   "source": [
    "pr_curve(y_test, y_pred_prob)"
   ]
  },
  {
   "cell_type": "code",
   "execution_count": null,
   "metadata": {
    "collapsed": true
   },
   "outputs": [],
   "source": [
    "y.value_counts()"
   ]
  },
  {
   "cell_type": "code",
   "execution_count": null,
   "metadata": {
    "collapsed": true
   },
   "outputs": [],
   "source": [
    "feature_importance = pd.DataFrame(feature_importance)"
   ]
  },
  {
   "cell_type": "code",
   "execution_count": null,
   "metadata": {
    "collapsed": true
   },
   "outputs": [],
   "source": [
    "feature_importance[0].unique()"
   ]
  },
  {
   "cell_type": "code",
   "execution_count": null,
   "metadata": {
    "collapsed": true
   },
   "outputs": [],
   "source": [
    "plt.figure(figsize=(12,8))\n",
    "sns.barplot(x=1,y=0,data=feature_importance)\n",
    "plt.title('Feature Importance Plot')\n",
    "plt.xlabel('Feature Importance')\n",
    "plt.ylabel('Features');"
   ]
  },
  {
   "cell_type": "markdown",
   "metadata": {},
   "source": [
    "# Cross validation"
   ]
  },
  {
   "cell_type": "code",
   "execution_count": null,
   "metadata": {
    "collapsed": true
   },
   "outputs": [],
   "source": [
    "y_pred_prob, y_pred = cross_val_predict_proba(gbr, X, y, folds=5)\n",
    "\n",
    "print('Log loss: ',log_loss(y,y_pred_prob))\n",
    "print('Accuracy: ',accuracy_score(y,y_pred))\n",
    "print('AUC: ',roc_auc_score(y,y_pred_prob[:,1]))\n",
    "\n",
    "pr_curve(y,y_pred_prob[:,1])"
   ]
  },
  {
   "cell_type": "code",
   "execution_count": null,
   "metadata": {
    "collapsed": true
   },
   "outputs": [],
   "source": [
    "fpr, tpr, _ = roc_curve(y,y_pred_prob[:,1])\n",
    "plt.plot(fpr, tpr)\n",
    "plt.title('ROC Curve')\n",
    "plt.xlabel('False +ve values')\n",
    "plt.ylabel('True +ve values')\n",
    "plt.plot(np.linspace(0,1,100),np.linspace(0,1,100))"
   ]
  },
  {
   "cell_type": "code",
   "execution_count": null,
   "metadata": {
    "collapsed": true
   },
   "outputs": [],
   "source": [
    "print(confusion_matrix(y,y_pred))\n",
    "print(classification_report(y,y_pred))"
   ]
  },
  {
   "cell_type": "markdown",
   "metadata": {},
   "source": [
    "# Reducing dataset to consider only certain variables"
   ]
  },
  {
   "cell_type": "markdown",
   "metadata": {},
   "source": [
    "### Considering population stats- including race and median age"
   ]
  },
  {
   "cell_type": "code",
   "execution_count": null,
   "metadata": {
    "collapsed": true
   },
   "outputs": [],
   "source": [
    "dataset.columns"
   ]
  },
  {
   "cell_type": "code",
   "execution_count": null,
   "metadata": {
    "collapsed": true
   },
   "outputs": [],
   "source": [
    "X = dataset[['population','housing_units','international_mig','domestic_mig','net_mig',\n",
    "             'total_population','median_age','male','female',\n",
    "             'american_indian_pop','asian_pop', 'hawaiian_islander_pop','other_pop', 'hispanic_pop',\n",
    "             'population_density','white_population_greater_than_all']]\n",
    "y = dataset['is_democrat']\n",
    "\n",
    "y_pred_prob, y_pred = cross_val_predict_proba(gbr,X,y,folds=5)"
   ]
  },
  {
   "cell_type": "code",
   "execution_count": null,
   "metadata": {
    "collapsed": true
   },
   "outputs": [],
   "source": [
    "print('Accuracy: ',accuracy_score(y,y_pred))\n",
    "print('AUC: ',roc_auc_score(y,y_pred_prob[:,1]))\n",
    "\n",
    "pr_curve(y,y_pred_prob[:,1])"
   ]
  },
  {
   "cell_type": "code",
   "execution_count": null,
   "metadata": {
    "collapsed": true
   },
   "outputs": [],
   "source": [
    "fpr, tpr, _ = roc_curve(y,y_pred_prob[:,1])\n",
    "plt.plot(fpr, tpr)\n",
    "plt.plot(np.linspace(0,1,100),np.linspace(0,1,100))"
   ]
  },
  {
   "cell_type": "code",
   "execution_count": null,
   "metadata": {
    "collapsed": true
   },
   "outputs": [],
   "source": [
    "print(confusion_matrix(y,y_pred))\n",
    "print(classification_report(y,y_pred))"
   ]
  },
  {
   "cell_type": "markdown",
   "metadata": {},
   "source": [
    "### Business data\n",
    "Checking how business data drove the results"
   ]
  },
  {
   "cell_type": "code",
   "execution_count": null,
   "metadata": {
    "collapsed": true
   },
   "outputs": [],
   "source": [
    "dataset.columns"
   ]
  },
  {
   "cell_type": "code",
   "execution_count": null,
   "metadata": {
    "collapsed": true
   },
   "outputs": [],
   "source": [
    "X = dataset[['unions_count','gun_store_counts','liquor_store_count','starbucks_store_count',\n",
    "             'starbucks_gun_stores_ratio','more_starbucks']]\n",
    "y = dataset.is_democrat\n",
    "\n",
    "y_pred_prob, y_pred = cross_val_predict_proba(gbr,X,y,folds=5)\n",
    "print('Accuracy: ',accuracy_score(y,y_pred))\n",
    "print('AUC: ',roc_auc_score(y,y_pred_prob[:,1]))\n",
    "print(confusion_matrix(y,y_pred))\n",
    "print(classification_report(y,y_pred))\n",
    "pr_curve(y,y_pred_prob[:,1])"
   ]
  },
  {
   "cell_type": "code",
   "execution_count": null,
   "metadata": {
    "collapsed": true
   },
   "outputs": [],
   "source": [
    "fpr, tpr, _ = roc_curve(y,y_pred_prob[:,1])\n",
    "plt.plot(fpr, tpr)\n",
    "plt.plot(np.linspace(0,1,100),np.linspace(0,1,100))"
   ]
  },
  {
   "cell_type": "markdown",
   "metadata": {},
   "source": [
    "### Health data\n",
    "Checking how the health statistics affected the election results"
   ]
  },
  {
   "cell_type": "code",
   "execution_count": null,
   "metadata": {
    "collapsed": true
   },
   "outputs": [],
   "source": [
    "dataset.columns"
   ]
  },
  {
   "cell_type": "code",
   "execution_count": null,
   "metadata": {
    "collapsed": true
   },
   "outputs": [],
   "source": [
    "X = dataset[['diabetes_count','diabetes%','inactivity_count','inactivity%','drug_deaths',\n",
    "             'heart_disease_deathrate_per_100000','obesity_number','obesity_percent']]\n",
    "y = dataset.is_democrat\n",
    "\n",
    "y_pred_prob, y_pred = cross_val_predict_proba(gbr,X,y,folds=5)\n",
    "print('Accuracy: ',accuracy_score(y,y_pred))\n",
    "print('AUC: ',roc_auc_score(y,y_pred_prob[:,1]))\n",
    "print(confusion_matrix(y,y_pred))\n",
    "print(classification_report(y,y_pred))\n",
    "pr_curve(y,y_pred_prob[:,1])"
   ]
  },
  {
   "cell_type": "code",
   "execution_count": null,
   "metadata": {
    "collapsed": true
   },
   "outputs": [],
   "source": [
    "fpr, tpr, _ = roc_curve(y,y_pred_prob[:,1])\n",
    "plt.plot(fpr, tpr)\n",
    "plt.plot(np.linspace(0,1,100),np.linspace(0,1,100))"
   ]
  },
  {
   "cell_type": "markdown",
   "metadata": {},
   "source": [
    "### Employment and poverty\n",
    "Too see if this data affected the outcome of the results"
   ]
  },
  {
   "cell_type": "code",
   "execution_count": null,
   "metadata": {
    "collapsed": true
   },
   "outputs": [],
   "source": [
    "dataset.columns"
   ]
  },
  {
   "cell_type": "code",
   "execution_count": null,
   "metadata": {
    "collapsed": true
   },
   "outputs": [],
   "source": [
    "X = dataset[['Civilian_labor_force_2012','Employed_2012','Unemployed_2012','Unemployment_rate_2012',\n",
    "             'poverty_estimate_all_ages','poverty_estimate_all_ages','poverty_estimate_under_age_18',\n",
    "             'poverty_percent_under_age_18','poverty_estimate_ages_5-17_in_families',\n",
    "             'poverty_percent_ages_5-17_in_families']]\n",
    "y = dataset.is_democrat\n",
    "\n",
    "y_pred_prob, y_pred = cross_val_predict_proba(gbr,X,y,folds=5)\n",
    "print('Accuracy: ',accuracy_score(y,y_pred))\n",
    "print('AUC: ',roc_auc_score(y,y_pred_prob[:,1]))\n",
    "print(confusion_matrix(y,y_pred))\n",
    "print(classification_report(y,y_pred))\n",
    "pr_curve(y,y_pred_prob[:,1])"
   ]
  },
  {
   "cell_type": "code",
   "execution_count": null,
   "metadata": {
    "collapsed": true
   },
   "outputs": [],
   "source": [
    "fpr, tpr, _ = roc_curve(y,y_pred_prob[:,1])\n",
    "plt.plot(fpr, tpr)\n",
    "plt.plot(np.linspace(0,1,100),np.linspace(0,1,100))"
   ]
  },
  {
   "cell_type": "markdown",
   "metadata": {},
   "source": [
    "### Most important features\n",
    "Ran the classifier considering only the features that had the highest feature importances"
   ]
  },
  {
   "cell_type": "code",
   "execution_count": null,
   "metadata": {
    "collapsed": true
   },
   "outputs": [],
   "source": [
    "X = dataset[['white_population_greater_than_all', 'domestic_mig',\n",
    "       'poverty_percent_all_ages', 'inactivity%',\n",
    "       'heart_disease_deathrate_per_100000', 'population_density',\n",
    "       'diabetes%', 'unions_count', 'Unemployment_rate_2012',\n",
    "       'poverty_percent_ages_5-17_in_families', 'median_age',\n",
    "       'gun_store_counts','starbucks_store_count',\n",
    "       'obesity_percent',\n",
    "#        'starbucks_gun_stores_ratio', \n",
    "        'liquor_store_count',\n",
    "       'median_household_income', \n",
    "       'international_mig', \n",
    "        ]]\n",
    "\n",
    "y = dataset.is_democrat\n",
    "\n",
    "def accuracy_auc_pr_curve_roc_curve(X,y):\n",
    "    y_pred_prob, y_pred = cross_val_predict_proba(gbr,X,y,folds=5)\n",
    "    print('Log loss: ',log_loss(y,y_pred_prob))\n",
    "    print('Accuracy: ',accuracy_score(y,y_pred))\n",
    "    print('AUC: ',roc_auc_score(y,y_pred_prob[:,1]))\n",
    "    print(confusion_matrix(y,y_pred))\n",
    "    print(classification_report(y,y_pred))\n",
    "    pr_curve(y,y_pred_prob[:,1])\n",
    "    fpr, tpr, _ = roc_curve(y,y_pred_prob[:,1])\n",
    "    plt.plot(fpr, tpr)\n",
    "    plt.plot(np.linspace(0,1,100),np.linspace(0,1,100))\n",
    "    \n",
    "accuracy_auc_pr_curve_roc_curve(X,y)"
   ]
  },
  {
   "cell_type": "code",
   "execution_count": null,
   "metadata": {
    "collapsed": true
   },
   "outputs": [],
   "source": [
    "dataset[dataset.fips_code==48205].gun_store_counts"
   ]
  },
  {
   "cell_type": "code",
   "execution_count": null,
   "metadata": {
    "collapsed": true
   },
   "outputs": [],
   "source": [
    "y_pred_prob, y_pred = cross_val_predict_proba(gbr,X,y,folds=5)"
   ]
  },
  {
   "cell_type": "code",
   "execution_count": null,
   "metadata": {
    "collapsed": true
   },
   "outputs": [],
   "source": [
    "feature_importance = pd.DataFrame(sorted(zip(X.columns,gbr.feature_importances_), key = lambda x:x[1], reverse=True))"
   ]
  },
  {
   "cell_type": "code",
   "execution_count": null,
   "metadata": {
    "collapsed": true
   },
   "outputs": [],
   "source": [
    "plt.figure(figsize=(12,8))\n",
    "sns.barplot(x=1,y=0,data=feature_importance)\n",
    "plt.title('Feature Importance Plot')\n",
    "plt.xlabel('Feature Importance')\n",
    "plt.ylabel('Features');"
   ]
  },
  {
   "cell_type": "code",
   "execution_count": null,
   "metadata": {
    "collapsed": true
   },
   "outputs": [],
   "source": [
    "y_pred = pd.DataFrame(y_pred)\n",
    "y_pred.columns = ['is_democrat_pred']"
   ]
  }
 ],
 "metadata": {
  "kernelspec": {
   "display_name": "Python 3",
   "language": "python",
   "name": "python3"
  },
  "language_info": {
   "codemirror_mode": {
    "name": "ipython",
    "version": 3
   },
   "file_extension": ".py",
   "mimetype": "text/x-python",
   "name": "python",
   "nbconvert_exporter": "python",
   "pygments_lexer": "ipython3",
   "version": "3.6.1"
  }
 },
 "nbformat": 4,
 "nbformat_minor": 2
}
